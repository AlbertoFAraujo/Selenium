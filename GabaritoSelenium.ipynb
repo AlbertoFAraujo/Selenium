{
 "cells": [
  {
   "cell_type": "code",
   "execution_count": 2,
   "id": "e3dcb156",
   "metadata": {},
   "outputs": [],
   "source": [
    "# Atualização do WebDrive for Chrome de forma automatica\n",
    "from selenium import webdriver\n",
    "from webdriver_manager.chrome import ChromeDriverManager\n",
    "from selenium.webdriver.chrome.service import Service\n",
    "\n",
    "# Componentes webdriver para selecionar os elementos em (find_elements(By.))\n",
    "from selenium.webdriver.common.by import By\n",
    "from selenium.webdriver.chrome.options import Options\n",
    "\n",
    "# Caso necessário utilizar o time.sleep\n",
    "import time"
   ]
  },
  {
   "cell_type": "code",
   "execution_count": 6,
   "id": "bebe0a35",
   "metadata": {},
   "outputs": [],
   "source": [
    "# Cria a instância do Chrome e exibe a tela\n",
    "servico = Service(ChromeDriverManager().install())\n",
    "nav = webdriver.Chrome(service=servico)"
   ]
  },
  {
   "cell_type": "code",
   "execution_count": null,
   "id": "a60977a5",
   "metadata": {},
   "outputs": [],
   "source": [
    "# Cria a instância do Chrome e NÃO exibe a tela\n",
    "chrome_options = Options()\n",
    "chrome_options.add_argument(\"-headless\")\n",
    "\n",
    "servico = Service(ChromeDriverManager().install())\n",
    "nav = webdriver.Chrome(options = chrome_options, service=servico)"
   ]
  },
  {
   "cell_type": "code",
   "execution_count": 10,
   "id": "98308e2d",
   "metadata": {},
   "outputs": [],
   "source": [
    "#Acessar o site desejado:\n",
    "site_desejado = 'https://www.google.com.br/'\n",
    "nav.get(site_desejado)\n",
    "\n",
    "# A instância precisa estar criada, então é desejável colocar essa linha abaixo da instância para evitar erros"
   ]
  },
  {
   "cell_type": "markdown",
   "id": "7d6a9371",
   "metadata": {},
   "source": [
    "### Tipos de botões - formulário"
   ]
  },
  {
   "cell_type": "markdown",
   "id": "7d964ce5",
   "metadata": {
    "id": "7d964ce5"
   },
   "source": [
    "#### Botão Padrão (clicar em botão)"
   ]
  },
  {
   "cell_type": "code",
   "execution_count": null,
   "id": "e5c8e21c",
   "metadata": {
    "id": "e5c8e21c"
   },
   "outputs": [],
   "source": [
    "navegador.find_element(By.XPATH, '/html/body/form/input[1]').click()\n",
    "alerta = navegador.switch_to.alert\n",
    "alerta.accept()"
   ]
  },
  {
   "cell_type": "code",
   "execution_count": null,
   "id": "7e2e11f6",
   "metadata": {},
   "outputs": [],
   "source": []
  },
  {
   "cell_type": "code",
   "execution_count": null,
   "id": "06253465",
   "metadata": {},
   "outputs": [],
   "source": []
  },
  {
   "cell_type": "markdown",
   "id": "c9bbd400",
   "metadata": {},
   "source": [
    "![botao_submit](Formularios/botoes.png)"
   ]
  },
  {
   "cell_type": "code",
   "execution_count": null,
   "id": "82ed0f4e",
   "metadata": {},
   "outputs": [],
   "source": []
  },
  {
   "cell_type": "code",
   "execution_count": null,
   "id": "276d6fc3",
   "metadata": {},
   "outputs": [],
   "source": []
  },
  {
   "cell_type": "code",
   "execution_count": null,
   "id": "e4e1701f",
   "metadata": {},
   "outputs": [],
   "source": []
  },
  {
   "cell_type": "code",
   "execution_count": null,
   "id": "6cbbfd4a",
   "metadata": {},
   "outputs": [],
   "source": []
  },
  {
   "cell_type": "code",
   "execution_count": null,
   "id": "c4da812d",
   "metadata": {},
   "outputs": [],
   "source": []
  },
  {
   "cell_type": "code",
   "execution_count": null,
   "id": "1e67d1e2",
   "metadata": {},
   "outputs": [],
   "source": []
  },
  {
   "cell_type": "code",
   "execution_count": null,
   "id": "d9d623a3",
   "metadata": {},
   "outputs": [],
   "source": []
  }
 ],
 "metadata": {
  "kernelspec": {
   "display_name": "Python 3 (ipykernel)",
   "language": "python",
   "name": "python3"
  },
  "language_info": {
   "codemirror_mode": {
    "name": "ipython",
    "version": 3
   },
   "file_extension": ".py",
   "mimetype": "text/x-python",
   "name": "python",
   "nbconvert_exporter": "python",
   "pygments_lexer": "ipython3",
   "version": "3.9.12"
  }
 },
 "nbformat": 4,
 "nbformat_minor": 5
}
