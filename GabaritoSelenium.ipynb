{
 "cells": [
  {
   "cell_type": "code",
   "execution_count": null,
   "id": "e3dcb156",
   "metadata": {},
   "outputs": [],
   "source": [
    "# Atualização do WebDrive for Chrome de forma automatica\n",
    "from selenium import webdriver\n",
    "from webdriver_manager.chrome import ChromeDriverManager\n",
    "from selenium.webdriver.chrome.service import Service\n",
    "\n",
    "# Componentes webdriver para selecionar os elementos em (find_elements(By.))\n",
    "from selenium.webdriver.common.by import By\n",
    "from selenium.webdriver.chrome.options import Options\n",
    "\n",
    "# Caso necessário utilizar o time.sleep\n",
    "import time"
   ]
  },
  {
   "cell_type": "code",
   "execution_count": null,
   "id": "bebe0a35",
   "metadata": {},
   "outputs": [],
   "source": [
    "# Cria a instância do Chrome e exibe a tela\n",
    "servico = Service(ChromeDriverManager().install())\n",
    "nav = webdriver.Chrome(service=servico)"
   ]
  },
  {
   "cell_type": "code",
   "execution_count": null,
   "id": "a60977a5",
   "metadata": {},
   "outputs": [],
   "source": [
    "# Cria a instância do Chrome e NÃO exibe a tela\n",
    "chrome_options = Options()\n",
    "chrome_options.add_argument(\"-headless\")\n",
    "\n",
    "servico = Service(ChromeDriverManager().install())\n",
    "nav = webdriver.Chrome(options = chrome_options, service=servico)"
   ]
  },
  {
   "cell_type": "code",
   "execution_count": null,
   "id": "98308e2d",
   "metadata": {},
   "outputs": [],
   "source": [
    "#Acessar o site desejado:\n",
    "site_desejado = 'https://www.aasp.org.br/suporte-profissional/indices-economicos/mensal/dolar/'\n",
    "nav.get(site_desejado)\n",
    "\n",
    "# A instância precisa estar criada, então é desejável colocar essa linha abaixo da instância para evitar erros"
   ]
  }
 ],
 "metadata": {
  "kernelspec": {
   "display_name": "Python 3 (ipykernel)",
   "language": "python",
   "name": "python3"
  },
  "language_info": {
   "codemirror_mode": {
    "name": "ipython",
    "version": 3
   },
   "file_extension": ".py",
   "mimetype": "text/x-python",
   "name": "python",
   "nbconvert_exporter": "python",
   "pygments_lexer": "ipython3",
   "version": "3.9.12"
  }
 },
 "nbformat": 4,
 "nbformat_minor": 5
}
